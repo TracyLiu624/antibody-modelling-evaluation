{
 "cells": [
  {
   "cell_type": "markdown",
   "source": [
    "# Antibody Packing Angle analysis"
   ],
   "metadata": {
    "collapsed": false
   }
  },
  {
   "cell_type": "markdown",
   "source": [
    "## Import"
   ],
   "metadata": {
    "collapsed": false
   }
  },
  {
   "cell_type": "code",
   "execution_count": 3,
   "outputs": [
    {
     "name": "stderr",
     "output_type": "stream",
     "text": [
      "UsageError: Line magic function `%` not found.\n"
     ]
    }
   ],
   "source": [
    "from pathlib import Path\n",
    "from typing import Union, List\n",
    "import pandas as pd\n",
    "import numpy as np\n",
    "import re\n",
    "import matplotlib.pyplot as plt\n",
    "import seaborn as sns\n",
    "import json\n",
    "% matplotlib inline"
   ],
   "metadata": {
    "collapsed": false
   }
  },
  {
   "cell_type": "markdown",
   "source": [
    "## Configuration"
   ],
   "metadata": {
    "collapsed": false
   }
  },
  {
   "cell_type": "code",
   "execution_count": 4,
   "outputs": [],
   "source": [
    "BASE = Path(\"/Users/lynnricky/scripts/CDR-modelling-evaluation\")\n",
    "\n",
    "config = {\n",
    "    \"input\": {\n",
    "        \"abymod\": BASE.joinpath(\"output/run_profit_abpackingangle/abymod\"),\n",
    "        \"IgFold\": BASE.joinpath(\"output/run_profit_abpackingangle/IgFold\"),\n",
    "        \"lyra\": BASE.joinpath(\"output/run_profit_abpackingangle/lyra\"),\n",
    "        \"rosetta\": BASE.joinpath(\"output/run_profit_abpackingangle/rosetta\")\n",
    "    },\n",
    "    \"output\": {\n",
    "        \"figures\": BASE.joinpath(\"analysis/packing_angle\")\n",
    "    }\n",
    "}"
   ],
   "metadata": {
    "collapsed": false
   }
  },
  {
   "cell_type": "markdown",
   "source": [
    "## Function"
   ],
   "metadata": {
    "collapsed": false
   }
  },
  {
   "cell_type": "code",
   "execution_count": 5,
   "outputs": [],
   "source": [
    "# extract abdb_angle and model_angle from json files\n",
    "def load_json_as_df(input_dir: Path, method_type: str = None):\n",
    "    result = []\n",
    "    json_fps = input_dir.glob(f\"*.json\")\n",
    "    for json_fp in json_fps:\n",
    "        with open(json_fp, \"r\") as f:\n",
    "            data = json.load(f)\n",
    "            result.append(\n",
    "                [\n",
    "                    data[\"abdb_id\"],\n",
    "                    data[\"abdb_angle\"],\n",
    "                    data[\"model_angle\"],\n",
    "                ]\n",
    "            )\n",
    "    df = pd.DataFrame(result)\n",
    "    df.columns = [\"abdbid\", \"abdb_angle\", \"model_angle\"]\n",
    "    if method_type:\n",
    "        df[\"method\"] = [method_type] * df.shape[0]\n",
    "    return df"
   ],
   "metadata": {
    "collapsed": false
   }
  },
  {
   "cell_type": "markdown",
   "source": [
    "## Main"
   ],
   "metadata": {
    "collapsed": false
   }
  },
  {
   "cell_type": "code",
   "execution_count": 4,
   "outputs": [],
   "source": [],
   "metadata": {
    "collapsed": false
   }
  },
  {
   "cell_type": "code",
   "execution_count": 6,
   "outputs": [],
   "source": [
    "df = pd.concat([load_json_as_df(config[\"input\"][\"abymod\"], method_type=\"abYmod\"),\n",
    "                load_json_as_df(config[\"input\"][\"lyra\"], method_type=\"lyra\"),\n",
    "                load_json_as_df(config[\"input\"][\"IgFold\"], method_type=\"IgFold\"),\n",
    "               load_json_as_df(config[\"input\"][\"rosetta\"], method_type=\"Rosetta\")], axis=0)\n",
    "df.reset_index(drop=True, inplace=True )"
   ],
   "metadata": {
    "collapsed": false
   }
  },
  {
   "cell_type": "code",
   "execution_count": 7,
   "outputs": [
    {
     "data": {
      "text/plain": "      abdbid  abdb_angle  model_angle   method\n0     3o6k_0  -49.254896   -45.453835   abYmod\n1     3u46_1  -48.269836   -47.039367   abYmod\n2     3q6g_1  -56.583349   -42.737555   abYmod\n3     6mee_1  -43.685120   -47.214086   abYmod\n4     3dif_1  -46.752652   -47.280005   abYmod\n...      ...         ...          ...      ...\n4045  5b6f_1  -45.696443   -43.215033  Rosetta\n4046  4lly_1  -45.068598   -46.383095  Rosetta\n4047  2eh7_0  -46.057577   -45.755114  Rosetta\n4048  1d5i_0  -43.016424   -42.192881  Rosetta\n4049  8fab_0  -45.185329   -48.822663  Rosetta\n\n[4050 rows x 4 columns]",
      "text/html": "<div>\n<style scoped>\n    .dataframe tbody tr th:only-of-type {\n        vertical-align: middle;\n    }\n\n    .dataframe tbody tr th {\n        vertical-align: top;\n    }\n\n    .dataframe thead th {\n        text-align: right;\n    }\n</style>\n<table border=\"1\" class=\"dataframe\">\n  <thead>\n    <tr style=\"text-align: right;\">\n      <th></th>\n      <th>abdbid</th>\n      <th>abdb_angle</th>\n      <th>model_angle</th>\n      <th>method</th>\n    </tr>\n  </thead>\n  <tbody>\n    <tr>\n      <th>0</th>\n      <td>3o6k_0</td>\n      <td>-49.254896</td>\n      <td>-45.453835</td>\n      <td>abYmod</td>\n    </tr>\n    <tr>\n      <th>1</th>\n      <td>3u46_1</td>\n      <td>-48.269836</td>\n      <td>-47.039367</td>\n      <td>abYmod</td>\n    </tr>\n    <tr>\n      <th>2</th>\n      <td>3q6g_1</td>\n      <td>-56.583349</td>\n      <td>-42.737555</td>\n      <td>abYmod</td>\n    </tr>\n    <tr>\n      <th>3</th>\n      <td>6mee_1</td>\n      <td>-43.685120</td>\n      <td>-47.214086</td>\n      <td>abYmod</td>\n    </tr>\n    <tr>\n      <th>4</th>\n      <td>3dif_1</td>\n      <td>-46.752652</td>\n      <td>-47.280005</td>\n      <td>abYmod</td>\n    </tr>\n    <tr>\n      <th>...</th>\n      <td>...</td>\n      <td>...</td>\n      <td>...</td>\n      <td>...</td>\n    </tr>\n    <tr>\n      <th>4045</th>\n      <td>5b6f_1</td>\n      <td>-45.696443</td>\n      <td>-43.215033</td>\n      <td>Rosetta</td>\n    </tr>\n    <tr>\n      <th>4046</th>\n      <td>4lly_1</td>\n      <td>-45.068598</td>\n      <td>-46.383095</td>\n      <td>Rosetta</td>\n    </tr>\n    <tr>\n      <th>4047</th>\n      <td>2eh7_0</td>\n      <td>-46.057577</td>\n      <td>-45.755114</td>\n      <td>Rosetta</td>\n    </tr>\n    <tr>\n      <th>4048</th>\n      <td>1d5i_0</td>\n      <td>-43.016424</td>\n      <td>-42.192881</td>\n      <td>Rosetta</td>\n    </tr>\n    <tr>\n      <th>4049</th>\n      <td>8fab_0</td>\n      <td>-45.185329</td>\n      <td>-48.822663</td>\n      <td>Rosetta</td>\n    </tr>\n  </tbody>\n</table>\n<p>4050 rows × 4 columns</p>\n</div>"
     },
     "execution_count": 7,
     "metadata": {},
     "output_type": "execute_result"
    }
   ],
   "source": [
    "df"
   ],
   "metadata": {
    "collapsed": false
   }
  },
  {
   "cell_type": "code",
   "execution_count": 8,
   "outputs": [],
   "source": [
    "df[\"packing_angle\"]=abs(df[\"abdb_angle\"]-df[\"model_angle\"])"
   ],
   "metadata": {
    "collapsed": false
   }
  },
  {
   "cell_type": "code",
   "execution_count": 9,
   "id": "8f338d07-a37f-453e-9ce0-887bbf5997e2",
   "metadata": {},
   "outputs": [
    {
     "name": "stdout",
     "output_type": "stream",
     "text": [
      "['1uz6', '1xf2', '2a6j', '2vl5', '3eyo', '3qo1', '3rvt', '3sgd', '3tnn', '3w9d', '3wii', '4ebq', '4f33', '4g5z', '4g6k', '4gay', '4gw1', '4gw5', '4hkz', '4jfx', '4kaq', '4ma3', '4poz', '4rir', '4wuk', '4xbg', '4yhp', '4yhy', '4yny', '4ztp', '5ayu', '5bvj', '5dk3', '5esq', '5etu', '5euk', '5f88', '5ff6', '5ggq', '5ggu', '5gks', '5gs1', '5hpm', '5hyq', '5i2i', '5i76', '5i8e', '5icx', '5icy', '5icz', '5id0', '5id1', '5iop', '5ir1', '5itf', '5iv2', '5ivz', '5k8a', '5mvj', '5myo', '5n2k', '5t1k', '5t1l', '5t1m', '5th2', '5ukq', '5vga', '5vh3', '5vh4', '5wk2', '5x4g', '5xhg', '5y9k', '6au5', '6axp', '6ayn', '6azk', '6azl', '6b0w', '6bhz', '6bi0', '6bi2', '6dc7', '6df0', '6e65', '6hkg', '6n35', '6o3k', '6obz', '6q1g', '6qbc', '6uga', '6ugs', '6ugt', '6ugu', '6ugv', '6umh', '6umi', '6umj', '6vi2', '6vl9', '6xul', '6z7x', '6ztf', '7dr4', '7n3g', '7n3h', '7o4y']\n"
     ]
    }
   ],
   "source": [
    "'''\n",
    "output:\n",
    "1. csv_file\n",
    "    a.summary_interval-number of sequences in each H3_rmsd interval & H3 mean\n",
    "    b.Distribution_plot-density plot contains rmsd values of H1, H2, H3, L1, L2, L3\n",
    "'''\n",
    "\n",
    "'''load csv file and add a column specifying method adopted'''\n",
    "df_result_angle_abymod = pd.read_csv(\n",
    "    \"/Users/lynnricky/PycharmProjects/final_project_draft/tmp/csv_result/result_angle_abymod\")\n",
    "df_result_angle_abymod['method'] = [\"abymod\"] * len(df_result_angle_abymod)\n",
    "df_result_angle_abymod_update = pd.read_csv(\n",
    "    \"/Users/lynnricky/PycharmProjects/final_project_draft/tmp/csv_result/result_angle_abymod_update\")\n",
    "df_result_angle_abymod_update['method'] = [\"abymod_update\"] * len(df_result_angle_abymod_update)\n",
    "df_result_angle_igfold = pd.read_csv(\n",
    "    \"/Users/lynnricky/PycharmProjects/final_project_draft/tmp/csv_result/result_angle_igfold\")\n",
    "df_result_angle_igfold['method'] = [\"igfold\"] * len(df_result_angle_igfold)\n",
    "df_result_angle_lyra = pd.read_csv(\n",
    "    \"/Users/lynnricky/PycharmProjects/final_project_draft/tmp/csv_result/result_angle_lyra\")\n",
    "df_result_angle_lyra['method'] = [\"lyra\"] * len(df_result_angle_lyra)\n",
    "#df_result_angle_Ablooper=pd.read_csv(\"/tmp/csv_result/result_angle_Ablooper\")\n",
    "#df_result_angle_abymod['method']=[\"Ablooper\"]*len(df_result_angle_Ablooper)\n",
    "\n",
    "\n",
    "'''construct lyra dataframe excluding sequences that used as template'''\n",
    "\n",
    "with open(\"/Users/lynnricky/PycharmProjects/final_project_draft/dataset/nontemplate_lyra_testcase\", \"r\") as f:\n",
    "    data = f.read()\n",
    "    non_template = (data.split(\"\\n\"))[:-1]\n",
    "non_template_prefix = []\n",
    "for i in non_template:\n",
    "    id = re.match(r\"([A-Za-z\\d]{4})\", (i.lower())).group(0)\n",
    "    non_template_prefix.append(id)\n",
    "print(non_template_prefix)\n",
    "abdb_id = df_result_angle_lyra[\"abdb_id\"].values.tolist()\n",
    "\n",
    "prefix_list = []\n",
    "for i in abdb_id:\n",
    "    for k in non_template_prefix:\n",
    "        if (re.match(r\"([A-Za-z\\d]{4})\", i).group(0)) == k:\n",
    "            prefix_list.append(i)\n",
    "        else:\n",
    "            pass\n",
    "\n",
    "df_result_angle_lyra = df_result_angle_lyra.loc[df_result_angle_lyra[\"abdb_id\"].isin(prefix_list)]\n",
    "\n",
    "df_complete_dict = {'abymod': {}, \"abymod_update\": {}, \"igfold\": {}, \"lyra\": {}}\n",
    "\n",
    "df_result_angle = [df_result_angle_abymod, df_result_angle_abymod_update, df_result_angle_igfold, df_result_angle_lyra]\n",
    "\n",
    "\n",
    "def concat_df(list):\n",
    "    df = pd.concat(list, ignore_index=True)\n",
    "    return df\n",
    "\n",
    "\n",
    "df_angle = concat_df(df_result_angle)"
   ]
  },
  {
   "cell_type": "code",
   "execution_count": 28,
   "id": "70427722-154d-427f-b353-42fe12dd5469",
   "metadata": {},
   "outputs": [],
   "source": [
    "df\n",
    "df.to_csv(\"/Users/lynnricky/Downloads/angles.csv\")"
   ]
  },
  {
   "cell_type": "code",
   "execution_count": 36,
   "id": "9b85d022-15f6-47db-941d-eb045f39010f",
   "metadata": {},
   "outputs": [
    {
     "data": {
      "text/plain": "<Figure size 640x480 with 1 Axes>",
      "image/png": "[encoded data removed]"
     },
     "metadata": {},
     "output_type": "display_data"
    }
   ],
   "source": [
    "#plotting\n",
    "#g = sns.FacetGrid(df_angle, hue=\"method\")\n",
    "#g.map_dataframe(sns.kdeplot, x=\"rmsd\", hue=\"method\",palette=\"viridis\", legend=True)\n",
    "#g.map(sns.kdeplot, \"packing_angle\")\n",
    "#g.add_legend()\n",
    "#g.fig.suptitle(\"packing_angle\")\n",
    "#g.fig.subplots_adjust(top=0.9)\n",
    "#g.set(xlim=(0, 2))\n",
    "a=sns.kdeplot(data=df, x=\"packing_angle\", hue=\"method\")\n",
    "#g.tick_params(axis=\"x\", bottom=True, labelbottom=True)\n",
    "#g.tick_params(axis=\"y\", left=True, labelleft=True)\n",
    "#fig, axes = plt.subplots(2, 3, figsize=(9, 6), sharex=\"all\n",
    "# \", sharey=\"all\")\n",
    "#df_1_local_H3 = df_1_local.loc[df_1_local[\"cdr\"] == \"H3\"]\n",
    "plt.xlabel(\"Degree\")\n",
    "plt.xlim(0,)\n",
    "#df_1_local_H3 = df_1_local.loc[df_1_local[\"cdr\"] == \"H3\"]\n",
    "\n",
    "# density plot\n",
    "#p = sns.kdeplot(data=df_1_local_H3 , x=\"rmsd\", hue=\"method\", fill=True, common_norm=False, alpha=0.6, palette=\"viridis\", legend=False)\n",
    "# control x limit\n",
    "#plt.xlim(0, 100)\n",
    "plt.savefig(\"/Users/lynnricky/scripts/CDR-modelling-evaluation/analysis/packing_angle/angle_densityplot.png\", dpi=300, transparent=False)\n",
    "plt.savefig(\"/Users/lynnricky/scripts/CDR-modelling-evaluation/analysis/packing_angle/angle_densityplot.pdf\",transparent=False)"
   ]
  },
  {
   "cell_type": "code",
   "execution_count": 34,
   "outputs": [
    {
     "data": {
      "text/plain": "<Figure size 640x480 with 1 Axes>",
      "image/png": "[encoded data removed]"
     },
     "metadata": {},
     "output_type": "display_data"
    }
   ],
   "source": [
    "compare=sns.boxplot(x=\"method\", y=\"packing_angle\",\n",
    "            data=df, showfliers = False, showmeans=True,meanprops={\"marker\":\"o\",\n",
    "                       \"markerfacecolor\":\"white\",\n",
    "                       \"markeredgecolor\":\"black\",\n",
    "                      \"markersize\":\"5\"})\n",
    "plt.savefig(\"/Users/lynnricky/scripts/CDR-modelling-evaluation/analysis/packing_angle/angle_boxplot.png\",dpi=300)\n",
    "plt.savefig(\"/Users/lynnricky/scripts/CDR-modelling-evaluation/analysis/packing_angle/angle_boxplot.pdf\")"
   ],
   "metadata": {
    "collapsed": false
   }
  },
  {
   "cell_type": "code",
   "execution_count": 14,
   "outputs": [
    {
     "name": "stdout",
     "output_type": "stream",
     "text": [
      "591\n",
      "1087\n"
     ]
    },
    {
     "data": {
      "text/plain": "0.5436982520699172"
     },
     "execution_count": 14,
     "metadata": {},
     "output_type": "execute_result"
    }
   ],
   "source": [
    "a=print(len(df[(df[\"method\"]==\"abYmod\")& (df[\"packing_angle\"]<=3)]))\n",
    "b=print(len(df[(df[\"method\"]==\"abYmod\")]))\n",
    "591/1087"
   ],
   "metadata": {
    "collapsed": false
   }
  },
  {
   "cell_type": "code",
   "execution_count": 17,
   "outputs": [
    {
     "name": "stdout",
     "output_type": "stream",
     "text": [
      "602\n",
      "981\n"
     ]
    },
    {
     "data": {
      "text/plain": "0.6136595310907238"
     },
     "execution_count": 17,
     "metadata": {},
     "output_type": "execute_result"
    }
   ],
   "source": [
    "a=print(len(df[(df[\"method\"]==\"lyra\")& (df[\"packing_angle\"]<=3)]))\n",
    "b=print(len(df[(df[\"method\"]==\"lyra\")]))\n",
    "602/981"
   ],
   "metadata": {
    "collapsed": false
   }
  },
  {
   "cell_type": "code",
   "execution_count": 20,
   "outputs": [
    {
     "name": "stdout",
     "output_type": "stream",
     "text": [
      "741\n",
      "1023\n"
     ]
    },
    {
     "data": {
      "text/plain": "0.7243401759530792"
     },
     "execution_count": 20,
     "metadata": {},
     "output_type": "execute_result"
    }
   ],
   "source": [
    "a=print(len(df[(df[\"method\"]==\"IgFold\")& (df[\"packing_angle\"]<=3)]))\n",
    "b=print(len(df[(df[\"method\"]==\"IgFold\")]))\n",
    "741/1023"
   ],
   "metadata": {
    "collapsed": false
   }
  },
  {
   "cell_type": "code",
   "execution_count": 22,
   "outputs": [
    {
     "name": "stdout",
     "output_type": "stream",
     "text": [
      "520\n",
      "959\n"
     ]
    },
    {
     "data": {
      "text/plain": "0.5422314911366006"
     },
     "execution_count": 22,
     "metadata": {},
     "output_type": "execute_result"
    }
   ],
   "source": [
    "a=print(len(df[(df[\"method\"]==\"Rosetta\")& (df[\"packing_angle\"]<=3)]))\n",
    "b=print(len(df[(df[\"method\"]==\"Rosetta\")]))\n",
    "520/959"
   ],
   "metadata": {
    "collapsed": false
   }
  },
  {
   "cell_type": "code",
   "execution_count": 23,
   "outputs": [
    {
     "name": "stdout",
     "output_type": "stream",
     "text": [
      "3.270544270873788\n",
      "2.498513499999998\n",
      "3.0256513720125486\n"
     ]
    }
   ],
   "source": [
    "print((df[df[\"method\"]==\"abYmod\"])[\"packing_angle\"].mean())\n",
    "print((df[df[\"method\"]==\"abYmod\"])[\"packing_angle\"].median())\n",
    "print((df[df[\"method\"]==\"abYmod\"])[\"packing_angle\"].std())"
   ],
   "metadata": {
    "collapsed": false
   }
  },
  {
   "cell_type": "code",
   "execution_count": 24,
   "outputs": [
    {
     "name": "stdout",
     "output_type": "stream",
     "text": [
      "2.441042301980198\n",
      "1.8404434999999992\n",
      "2.373294360633899\n"
     ]
    }
   ],
   "source": [
    "print((df[df[\"method\"]==\"IgFold\"])[\"packing_angle\"].mean())\n",
    "print((df[df[\"method\"]==\"IgFold\"])[\"packing_angle\"].median())\n",
    "print((df[df[\"method\"]==\"IgFold\"])[\"packing_angle\"].std())"
   ],
   "metadata": {
    "collapsed": false
   }
  },
  {
   "cell_type": "code",
   "execution_count": 25,
   "outputs": [
    {
     "name": "stdout",
     "output_type": "stream",
     "text": [
      "2.918498181352459\n",
      "2.2200929999999985\n",
      "2.619552791448296\n"
     ]
    }
   ],
   "source": [
    "print((df[df[\"method\"]==\"lyra\"])[\"packing_angle\"].mean())\n",
    "print((df[df[\"method\"]==\"lyra\"])[\"packing_angle\"].median())\n",
    "print((df[df[\"method\"]==\"lyra\"])[\"packing_angle\"].std())"
   ],
   "metadata": {
    "collapsed": false
   }
  },
  {
   "cell_type": "code",
   "execution_count": 26,
   "outputs": [
    {
     "name": "stdout",
     "output_type": "stream",
     "text": [
      "3.4897979885297206\n",
      "2.7651540000000026\n",
      "3.0771640985530833\n"
     ]
    }
   ],
   "source": [
    "print((df[df[\"method\"]==\"Rosetta\"])[\"packing_angle\"].mean())\n",
    "print((df[df[\"method\"]==\"Rosetta\"])[\"packing_angle\"].median())\n",
    "print((df[df[\"method\"]==\"Rosetta\"])[\"packing_angle\"].std())"
   ],
   "metadata": {
    "collapsed": false
   }
  }
 ],
 "metadata": {
  "kernelspec": {
   "display_name": "Python 3 (ipykernel)",
   "language": "python",
   "name": "python3"
  },
  "language_info": {
   "codemirror_mode": {
    "name": "ipython",
    "version": 3
   },
   "file_extension": ".py",
   "mimetype": "text/x-python",
   "name": "python",
   "nbconvert_exporter": "python",
   "pygments_lexer": "ipython3",
   "version": "3.9.12"
  }
 },
 "nbformat": 4,
 "nbformat_minor": 5
}
